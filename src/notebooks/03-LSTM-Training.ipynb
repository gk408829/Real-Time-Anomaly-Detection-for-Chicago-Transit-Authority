{
 "cells": [
  {
   "cell_type": "markdown",
   "metadata": {},
   "source": [
    "# LSTM-Based Anomaly Detection for CTA Trains\n",
    "\n",
    "This notebook demonstrates training an LSTM model for sequence-based anomaly detection using PyTorch Lightning."
   ]
  },
  {
   "cell_type": "code",
   "execution_count": null,
   "metadata": {},
   "outputs": [],
   "source": [
    "import sys\n",
    "import os\n",
    "sys.path.append('../..')\n",
    "\n",
    "import torch\n",
    "import pytorch_lightning as pl\n",
    "import pandas as pd\n",
    "import numpy as np\n",
    "import matplotlib.pyplot as plt\n",
    "import seaborn as sns\n",
    "\n",
    "from src.models.lstm_anomaly import CTALSTMTrainer, LSTMAnomalyDetector\n",
    "from src.api.lstm_predictor import LSTMPredictor\n",
    "\n",
    "# Set style\n",
    "plt.style.use('seaborn-v0_8')\n",
    "sns.set_palette(\"husl\")"
   ]
  },
  {
   "cell_type": "markdown",
   "metadata": {},
   "source": [
    "## 1. Load and Explore Data"
   ]
  },
  {
   "cell_type": "code",
   "execution_count": null,
   "metadata": {},
   "outputs": [],
   "source": [
    "# Initialize trainer\n",
    "trainer = CTALSTMTrainer(db_path='../../data/cta_database.db')\n",
    "\n",
    "# Load data\n",
    "df = trainer.load_data(limit=5000)  # Limit for faster training in demo\n",
    "\n",
    "print(f\"Loaded {len(df)} records\")\n",
    "print(f\"Anomaly rate: {df['is_anomaly'].mean():.2%}\")\n",
    "print(f\"Unique trains: {df['run_number'].nunique()}\")\n",
    "\n",
    "df.head()"
   ]
  },
  {
   "cell_type": "markdown",
   "metadata": {},
   "source": [
    "## 2. Visualize Sequence Data"
   ]
  },
  {
   "cell_type": "code",
   "execution_count": null,
   "metadata": {},
   "outputs": [],
   "source": [
    "# Plot speed patterns for a few trains\n",
    "fig, axes = plt.subplots(2, 2, figsize=(15, 10))\n",
    "axes = axes.flatten()\n",
    "\n",
    "sample_trains = df['run_number'].unique()[:4]\n",
    "\n",
    "for i, train_id in enumerate(sample_trains):\n",
    "    train_data = df[df['run_number'] == train_id].sort_values('fetch_timestamp')\n",
    "    \n",
    "    axes[i].plot(train_data['speed_kmh'], label='Speed', alpha=0.7)\n",
    "    \n",
    "    # Highlight anomalies\n",
    "    anomalies = train_data[train_data['is_anomaly'] == 1]\n",
    "    if len(anomalies) > 0:\n",
    "        axes[i].scatter(anomalies.index - train_data.index[0], \n",
    "                       anomalies['speed_kmh'], \n",
    "                       color='red', s=50, label='Anomaly', zorder=5)\n",
    "    \n",
    "    axes[i].set_title(f'Train {train_id}')\n",
    "    axes[i].set_xlabel('Time Steps')\n",
    "    axes[i].set_ylabel('Speed (km/h)')\n",
    "    axes[i].legend()\n",
    "    axes[i].grid(True, alpha=0.3)\n",
    "\n",
    "plt.tight_layout()\n",
    "plt.show()"
   ]
  },
  {
   "cell_type": "markdown",
   "metadata": {},
   "source": [
    "## 3. Train LSTM Model"
   ]
  },
  {
   "cell_type": "code",
   "execution_count": null,
   "metadata": {},
   "outputs": [],
   "source": [
    "# Train the model\n",
    "print(\"🔥 Training LSTM model...\")\n",
    "\n",
    "model = trainer.train(\n",
    "    sequence_length=10,\n",
    "    batch_size=32,\n",
    "    max_epochs=20,  # Reduced for demo\n",
    "    val_split=0.2\n",
    ")\n",
    "\n",
    "print(\"✅ Training completed!\")"
   ]
  },
  {
   "cell_type": "markdown",
   "metadata": {},
   "source": [
    "## 4. Save and Test Model"
   ]
  },
  {
   "cell_type": "code",
   "execution_count": null,
   "metadata": {},
   "outputs": [],
   "source": [
    "# Save the model\n",
    "model_path = '../../models/lstm_anomaly_model.ckpt'\n",
    "os.makedirs(os.path.dirname(model_path), exist_ok=True)\n",
    "trainer.save_model(model_path)\n",
    "\n",
    "print(f\"Model saved to {model_path}\")"
   ]
  },
  {
   "cell_type": "markdown",
   "metadata": {},
   "source": [
    "## 5. Test Predictions"
   ]
  },
  {
   "cell_type": "code",
   "execution_count": null,
   "metadata": {},
   "outputs": [],
   "source": [
    "# Test the predictor\n",
    "predictor = LSTMPredictor(model_path=model_path)\n",
    "predictor.load_model()\n",
    "\n",
    "# Test with sample data\n",
    "test_data = {\n",
    "    'train_id': 'test_train',\n",
    "    'speed_kmh': 85.0,  # High speed - should be anomalous\n",
    "    'latitude': 41.8781,\n",
    "    'longitude': -87.6298,\n",
    "    'heading': 180,\n",
    "    'hour_of_day': 14,\n",
    "    'day_of_week': 1,\n",
    "    'is_delayed': 0\n",
    "}\n",
    "\n",
    "# This will use fallback since we don't have history for 'test_train'\n",
    "result = predictor.predict_from_current_data(test_data)\n",
    "\n",
    "print(\"Prediction Result:\")\n",
    "for key, value in result.items():\n",
    "    print(f\"  {key}: {value}\")"
   ]
  },
  {
   "cell_type": "markdown",
   "metadata": {},
   "source": [
    "## 6. Model Performance Analysis"
   ]
  },
  {
   "cell_type": "code",
   "execution_count": null,
   "metadata": {},
   "outputs": [],
   "source": [
    "# Analyze model architecture\n",
    "print(\"Model Architecture:\")\n",
    "print(model)\n",
    "\n",
    "# Count parameters\n",
    "total_params = sum(p.numel() for p in model.parameters())\n",
    "trainable_params = sum(p.numel() for p in model.parameters() if p.requires_grad)\n",
    "\n",
    "print(f\"\\nTotal parameters: {total_params:,}\")\n",
    "print(f\"Trainable parameters: {trainable_params:,}\")"
   ]
  },
  {
   "cell_type": "markdown",
   "metadata": {},
   "source": [
    "## 7. Next Steps\n",
    "\n",
    "1. **Integration**: Integrate with the existing API using `HybridPredictor`\n",
    "2. **Hyperparameter Tuning**: Experiment with different architectures\n",
    "3. **Conformal Prediction**: Add uncertainty quantification\n",
    "4. **Real-time Testing**: Test with live CTA data\n",
    "5. **Performance Monitoring**: Track model performance over time"
   ]
  }
 ],
 "metadata": {
  "kernelspec": {
   "display_name": "Python 3",
   "language": "python",
   "name": "python3"
  },
  "language_info": {
   "codemirror_mode": {
    "name": "ipython",
    "version": 3
   },
   "file_extension": ".py",
   "mimetype": "text/x-python",
   "name": "python",
   "nbconvert_exporter": "python",
   "pygments_lexer": "ipython3",
   "version": "3.9.6"
  }
 },
 "nbformat": 4,
 "nbformat_minor": 4
}