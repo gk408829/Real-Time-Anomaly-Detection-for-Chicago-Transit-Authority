{
 "cells": [
  {
   "cell_type": "markdown",
   "id": "intro",
   "metadata": {},
   "source": [
    "# Advanced Anomaly Detection Models for CTA Transit Data\n",
    "\n",
    "This notebook builds supervised machine learning models for anomaly detection using the features from our EDA analysis."
   ]
  },
  {
   "cell_type": "code",
   "execution_count": 1,
   "id": "imports",
   "metadata": {},
   "outputs": [],
   "source": [
    "import numpy as np\n",
    "import pandas as pd\n",
    "import matplotlib.pyplot as plt\n",
    "import sqlite3\n",
    "from sklearn.preprocessing import StandardScaler, LabelEncoder\n",
    "from sklearn.pipeline import Pipeline\n",
    "import lightgbm as lgb\n",
    "from sklearn.ensemble import IsolationForest, RandomForestClassifier\n",
    "from sklearn.linear_model import LogisticRegression\n",
    "from sklearn.metrics import classification_report, confusion_matrix, roc_auc_score, average_precision_score\n",
    "import mlflow\n",
    "import mlflow.sklearn\n",
    "from math import radians, cos, sin, asin, sqrt\n",
    "from scipy import stats\n",
    "import warnings\n",
    "warnings.filterwarnings('ignore')"
   ]
  },
  {
   "cell_type": "code",
   "execution_count": 2,
   "id": "cdf8d1f1",
   "metadata": {},
   "outputs": [],
   "source": [
    "# Configure matplotlib\n",
    "plt.rcParams.update({\n",
    "    \"font.family\": \"serif\",\n",
    "    \"figure.figsize\": (12, 8),\n",
    "    \"axes.grid\": True,\n",
    "    \"grid.alpha\": 0.3\n",
    "})\n",
    "\n",
    "# Set pandas display options\n",
    "pd.set_option('display.max_columns', 50)"
   ]
  },
  {
   "cell_type": "markdown",
   "id": "data-loading",
   "metadata": {},
   "source": [
    "## 1. Data Loading and Feature Engineering"
   ]
  },
  {
   "cell_type": "code",
   "execution_count": 3,
   "id": "load-data",
   "metadata": {},
   "outputs": [
    {
     "name": "stdout",
     "output_type": "stream",
     "text": [
      "Loaded 10,746 records from database\n"
     ]
    }
   ],
   "source": [
    "# Load data from database\n",
    "DB_PATH = '../../data/cta_database.db'\n",
    "conn = sqlite3.connect(DB_PATH)\n",
    "query = \"SELECT * FROM train_positions\"\n",
    "df = pd.read_sql_query(query, conn)\n",
    "conn.close()\n",
    "\n",
    "print(f\"Loaded {len(df):,} records from database\")"
   ]
  },
  {
   "cell_type": "code",
   "execution_count": 4,
   "id": "feature-engineering",
   "metadata": {},
   "outputs": [
    {
     "name": "stdout",
     "output_type": "stream",
     "text": [
      "Feature engineering complete. Records with speed: 10,568\n"
     ]
    }
   ],
   "source": [
    "def haversine_distance(lat1, lon1, lat2, lon2):\n",
    "    \"\"\"Calculate distance between two points on earth (in km)\"\"\"\n",
    "    lat1, lon1, lat2, lon2 = map(radians, [lat1, lon1, lat2, lon2])\n",
    "    dlat = lat2 - lat1\n",
    "    dlon = lon2 - lon1\n",
    "    a = sin(dlat/2)**2 + cos(lat1) * cos(lat2) * sin(dlon/2)**2\n",
    "    c = 2 * asin(sqrt(a))\n",
    "    return 6371 * c  # Earth radius in km\n",
    "\n",
    "# Sort by train and timestamp\n",
    "df_sorted = df.sort_values(['run_number', 'fetch_timestamp']).copy()\n",
    "\n",
    "# Calculate speed\n",
    "df_sorted['prev_lat'] = df_sorted.groupby('run_number')['latitude'].shift(1)\n",
    "df_sorted['prev_lon'] = df_sorted.groupby('run_number')['longitude'].shift(1)\n",
    "df_sorted['prev_timestamp'] = df_sorted.groupby('run_number')['fetch_timestamp'].shift(1)\n",
    "\n",
    "mask = df_sorted[['prev_lat', 'prev_lon', 'prev_timestamp']].notna().all(axis=1)\n",
    "df_sorted.loc[mask, 'distance_km'] = df_sorted.loc[mask].apply(\n",
    "    lambda row: haversine_distance(row['prev_lat'], row['prev_lon'], row['latitude'], row['longitude']), axis=1\n",
    ")\n",
    "df_sorted.loc[mask, 'time_diff_hours'] = (df_sorted.loc[mask, 'fetch_timestamp'] - df_sorted.loc[mask, 'prev_timestamp']) / 3600\n",
    "df_sorted.loc[mask, 'speed_kmh'] = df_sorted.loc[mask, 'distance_km'] / df_sorted.loc[mask, 'time_diff_hours']\n",
    "df_sorted.loc[df_sorted['time_diff_hours'] == 0, 'speed_kmh'] = 0\n",
    "\n",
    "# Add time features\n",
    "df_sorted['datetime'] = pd.to_datetime(df_sorted['fetch_timestamp'], unit='s')\n",
    "df_sorted['hour_of_day'] = df_sorted['datetime'].dt.hour\n",
    "df_sorted['day_of_week'] = df_sorted['datetime'].dt.dayofweek\n",
    "df_sorted['is_weekend'] = df_sorted['day_of_week'].isin([5, 6])\n",
    "df_sorted['is_rush_hour'] = df_sorted['hour_of_day'].isin([7, 8, 9, 17, 18, 19])\n",
    "\n",
    "print(f\"Feature engineering complete. Records with speed: {df_sorted['speed_kmh'].notna().sum():,}\")"
   ]
  },
  {
   "cell_type": "markdown",
   "id": "anomaly-labels",
   "metadata": {},
   "source": [
    "## 2. Create Anomaly Labels"
   ]
  },
  {
   "cell_type": "code",
   "execution_count": 5,
   "id": "create-labels",
   "metadata": {},
   "outputs": [
    {
     "name": "stdout",
     "output_type": "stream",
     "text": [
      "Total anomalies: 529 (5.01%)\n",
      "Normal samples: 10,039\n"
     ]
    }
   ],
   "source": [
    "# Select records with valid speed data\n",
    "df_features = df_sorted[df_sorted['speed_kmh'].notna()].copy()\n",
    "\n",
    "# Prepare features for anomaly detection\n",
    "feature_cols = ['speed_kmh', 'hour_of_day', 'day_of_week', 'is_delayed', 'heading', 'latitude', 'longitude']\n",
    "X_unsupervised = df_features[feature_cols].fillna(df_features[feature_cols].median())\n",
    "scaler = StandardScaler()\n",
    "X_scaled = scaler.fit_transform(X_unsupervised)\n",
    "\n",
    "# Method 1: Z-score anomalies\n",
    "def detect_zscore_anomalies(group, threshold=2.5):\n",
    "    if len(group) < 3:\n",
    "        return pd.Series([False] * len(group), index=group.index)\n",
    "    z_scores = np.abs(stats.zscore(group['speed_kmh'].fillna(group['speed_kmh'].median())))\n",
    "    return z_scores > threshold\n",
    "\n",
    "df_features['zscore_anomaly'] = df_features.groupby(['route_name', 'hour_of_day']).apply(\n",
    "    detect_zscore_anomalies\n",
    ").reset_index(level=[0,1], drop=True)\n",
    "\n",
    "# Method 2: Isolation Forest\n",
    "iso_forest = IsolationForest(contamination=0.05, random_state=42, n_estimators=100)\n",
    "df_features['iso_anomaly'] = iso_forest.fit_predict(X_scaled) == -1\n",
    "\n",
    "# Create ensemble labels\n",
    "methods = ['zscore_anomaly', 'iso_anomaly']\n",
    "df_features['ensemble_anomaly'] = (df_features[methods].sum(axis=1) >= 1)\n",
    "\n",
    "anomaly_count = df_features['ensemble_anomaly'].sum()\n",
    "anomaly_rate = df_features['ensemble_anomaly'].mean()\n",
    "\n",
    "print(f\"Total anomalies: {anomaly_count:,} ({anomaly_rate:.2%})\")\n",
    "print(f\"Normal samples: {len(df_features) - anomaly_count:,}\")"
   ]
  },
  {
   "cell_type": "markdown",
   "id": "data-preparation",
   "metadata": {},
   "source": [
    "## 3. Data Preparation"
   ]
  },
  {
   "cell_type": "code",
   "execution_count": 6,
   "id": "prepare-data",
   "metadata": {},
   "outputs": [
    {
     "name": "stdout",
     "output_type": "stream",
     "text": [
      "Training: 7,397 samples (5.64% anomalies)\n",
      "Validation: 1,585 samples (1.58% anomalies)\n",
      "Test: 1,586 samples (5.49% anomalies)\n"
     ]
    }
   ],
   "source": [
    "# Prepare features for supervised learning\n",
    "modeling_features = [\n",
    "    'speed_kmh', 'hour_of_day', 'day_of_week', 'is_delayed', 'heading',\n",
    "    'latitude', 'longitude', 'is_weekend', 'is_rush_hour'\n",
    "]\n",
    "\n",
    "X = df_features[modeling_features].copy()\n",
    "y = df_features['ensemble_anomaly'].astype(int)\n",
    "\n",
    "# Handle missing values\n",
    "X = X.fillna(X.median())\n",
    "\n",
    "# Encode route names\n",
    "le_route = LabelEncoder()\n",
    "X['route_encoded'] = le_route.fit_transform(df_features['route_name'])\n",
    "modeling_features.append('route_encoded')\n",
    "\n",
    "# Time-based split\n",
    "split_idx = int(len(X) * 0.7)\n",
    "val_split_idx = int(len(X) * 0.85)\n",
    "\n",
    "X_train = X.iloc[:split_idx]\n",
    "y_train = y.iloc[:split_idx]\n",
    "X_val = X.iloc[split_idx:val_split_idx]\n",
    "y_val = y.iloc[split_idx:val_split_idx]\n",
    "X_test = X.iloc[val_split_idx:]\n",
    "y_test = y.iloc[val_split_idx:]\n",
    "\n",
    "print(f\"Training: {len(X_train):,} samples ({y_train.mean():.2%} anomalies)\")\n",
    "print(f\"Validation: {len(X_val):,} samples ({y_val.mean():.2%} anomalies)\")\n",
    "print(f\"Test: {len(X_test):,} samples ({y_test.mean():.2%} anomalies)\")"
   ]
  },
  {
   "cell_type": "markdown",
   "id": "model-training",
   "metadata": {},
   "source": [
    "## 4. Model Training"
   ]
  },
  {
   "cell_type": "code",
   "execution_count": 7,
   "id": "setup-mlflow",
   "metadata": {},
   "outputs": [
    {
     "name": "stdout",
     "output_type": "stream",
     "text": [
      "MLflow setup complete\n"
     ]
    }
   ],
   "source": [
    "# Setup MLflow\n",
    "mlflow.set_experiment(\"CTA Anomaly Detection\")\n",
    "\n",
    "def evaluate_model(model, X_val, y_val, model_name):\n",
    "    \"\"\"Evaluate model and return metrics\"\"\"\n",
    "    y_pred = model.predict(X_val)\n",
    "    y_pred_proba = model.predict_proba(X_val)[:, 1] if hasattr(model, 'predict_proba') else y_pred\n",
    "    \n",
    "    auc_roc = roc_auc_score(y_val, y_pred_proba)\n",
    "    avg_precision = average_precision_score(y_val, y_pred_proba)\n",
    "    \n",
    "    print(f\"\\n=== {model_name} RESULTS ===\")\n",
    "    print(f\"AUC-ROC: {auc_roc:.3f}\")\n",
    "    print(f\"Average Precision: {avg_precision:.3f}\")\n",
    "    print(classification_report(y_val, y_pred))\n",
    "    \n",
    "    return {\n",
    "        'auc_roc': auc_roc,\n",
    "        'avg_precision': avg_precision,\n",
    "        'predictions': y_pred,\n",
    "        'probabilities': y_pred_proba\n",
    "    }\n",
    "\n",
    "print(\"MLflow setup complete\")"
   ]
  },
  {
   "cell_type": "markdown",
   "id": "189ad471",
   "metadata": {},
   "source": [
    "### 4.1 LightGBM"
   ]
  },
  {
   "cell_type": "code",
   "execution_count": 8,
   "id": "train-lightgbm",
   "metadata": {},
   "outputs": [
    {
     "name": "stdout",
     "output_type": "stream",
     "text": [
      "[LightGBM] [Info] Number of positive: 417, number of negative: 6980\n",
      "[LightGBM] [Info] Auto-choosing col-wise multi-threading, the overhead of testing was 0.000207 seconds.\n",
      "You can set `force_col_wise=true` to remove the overhead.\n",
      "[LightGBM] [Info] Total Bins 922\n",
      "[LightGBM] [Info] Number of data points in the train set: 7397, number of used features: 9\n",
      "[LightGBM] [Info] [binary:BoostFromScore]: pavg=0.500000 -> initscore=0.000000\n",
      "[LightGBM] [Info] Start training from score 0.000000\n",
      "[LightGBM] [Warning] No further splits with positive gain, best gain: -inf\n",
      "[LightGBM] [Warning] No further splits with positive gain, best gain: -inf\n",
      "[LightGBM] [Warning] No further splits with positive gain, best gain: -inf\n",
      "[LightGBM] [Warning] No further splits with positive gain, best gain: -inf\n",
      "[LightGBM] [Warning] No further splits with positive gain, best gain: -inf\n",
      "[LightGBM] [Warning] No further splits with positive gain, best gain: -inf\n",
      "[LightGBM] [Warning] No further splits with positive gain, best gain: -inf\n",
      "[LightGBM] [Warning] No further splits with positive gain, best gain: -inf\n",
      "[LightGBM] [Warning] No further splits with positive gain, best gain: -inf\n",
      "[LightGBM] [Warning] No further splits with positive gain, best gain: -inf\n",
      "[LightGBM] [Warning] No further splits with positive gain, best gain: -inf\n",
      "[LightGBM] [Warning] No further splits with positive gain, best gain: -inf\n",
      "[LightGBM] [Warning] No further splits with positive gain, best gain: -inf\n",
      "[LightGBM] [Warning] No further splits with positive gain, best gain: -inf\n",
      "[LightGBM] [Warning] No further splits with positive gain, best gain: -inf\n",
      "[LightGBM] [Warning] No further splits with positive gain, best gain: -inf\n",
      "[LightGBM] [Warning] No further splits with positive gain, best gain: -inf\n",
      "[LightGBM] [Warning] No further splits with positive gain, best gain: -inf\n",
      "[LightGBM] [Warning] No further splits with positive gain, best gain: -inf\n",
      "[LightGBM] [Warning] No further splits with positive gain, best gain: -inf\n",
      "[LightGBM] [Warning] No further splits with positive gain, best gain: -inf\n",
      "[LightGBM] [Warning] No further splits with positive gain, best gain: -inf\n",
      "[LightGBM] [Warning] No further splits with positive gain, best gain: -inf\n",
      "[LightGBM] [Warning] No further splits with positive gain, best gain: -inf\n",
      "[LightGBM] [Warning] No further splits with positive gain, best gain: -inf\n",
      "[LightGBM] [Warning] No further splits with positive gain, best gain: -inf\n",
      "[LightGBM] [Warning] No further splits with positive gain, best gain: -inf\n",
      "[LightGBM] [Warning] No further splits with positive gain, best gain: -inf\n",
      "[LightGBM] [Warning] No further splits with positive gain, best gain: -inf\n",
      "[LightGBM] [Warning] No further splits with positive gain, best gain: -inf\n"
     ]
    },
    {
     "name": "stderr",
     "output_type": "stream",
     "text": [
      "2025/09/02 17:22:07 WARNING mlflow.models.model: `artifact_path` is deprecated. Please use `name` instead.\n"
     ]
    },
    {
     "name": "stdout",
     "output_type": "stream",
     "text": [
      "[LightGBM] [Warning] No further splits with positive gain, best gain: -inf\n",
      "[LightGBM] [Warning] No further splits with positive gain, best gain: -inf\n",
      "[LightGBM] [Warning] No further splits with positive gain, best gain: -inf\n",
      "[LightGBM] [Warning] No further splits with positive gain, best gain: -inf\n",
      "[LightGBM] [Warning] No further splits with positive gain, best gain: -inf\n",
      "[LightGBM] [Warning] No further splits with positive gain, best gain: -inf\n",
      "[LightGBM] [Warning] No further splits with positive gain, best gain: -inf\n",
      "[LightGBM] [Warning] No further splits with positive gain, best gain: -inf\n",
      "[LightGBM] [Warning] No further splits with positive gain, best gain: -inf\n",
      "[LightGBM] [Warning] No further splits with positive gain, best gain: -inf\n",
      "[LightGBM] [Warning] No further splits with positive gain, best gain: -inf\n",
      "[LightGBM] [Warning] No further splits with positive gain, best gain: -inf\n",
      "[LightGBM] [Warning] No further splits with positive gain, best gain: -inf\n",
      "[LightGBM] [Warning] No further splits with positive gain, best gain: -inf\n",
      "\n",
      "=== LightGBM RESULTS ===\n",
      "AUC-ROC: 0.996\n",
      "Average Precision: 0.927\n",
      "              precision    recall  f1-score   support\n",
      "\n",
      "           0       1.00      1.00      1.00      1560\n",
      "           1       0.79      0.92      0.85        25\n",
      "\n",
      "    accuracy                           0.99      1585\n",
      "   macro avg       0.90      0.96      0.92      1585\n",
      "weighted avg       1.00      0.99      1.00      1585\n",
      "\n"
     ]
    }
   ],
   "source": [
    "# Model 1: LightGBM\n",
    "with mlflow.start_run(run_name=\"LightGBM_Anomaly_Detection\"):\n",
    "    lgb_model = lgb.LGBMClassifier(\n",
    "        random_state=42,\n",
    "        n_estimators=100,\n",
    "        learning_rate=0.1,\n",
    "        max_depth=6,\n",
    "        class_weight='balanced'\n",
    "    )\n",
    "    \n",
    "    lgb_model.fit(X_train[modeling_features], y_train)\n",
    "    lgb_results = evaluate_model(lgb_model, X_val[modeling_features], y_val, \"LightGBM\")\n",
    "    \n",
    "    # Log to MLflow\n",
    "    mlflow.log_param(\"model_type\", \"LightGBM\")\n",
    "    mlflow.log_metric(\"auc_roc\", lgb_results['auc_roc'])\n",
    "    mlflow.log_metric(\"avg_precision\", lgb_results['avg_precision'])\n",
    "    \n",
    "    mlflow.sklearn.log_model(\n",
    "        lgb_model,\n",
    "        \"lightgbm_anomaly_model\",\n",
    "        input_example=X_train[modeling_features].head(1)\n",
    "    )"
   ]
  },
  {
   "cell_type": "markdown",
   "id": "54c91c74",
   "metadata": {},
   "source": [
    "### 4.2 Random Forest"
   ]
  },
  {
   "cell_type": "code",
   "execution_count": 9,
   "id": "train-random-forest",
   "metadata": {},
   "outputs": [
    {
     "name": "stderr",
     "output_type": "stream",
     "text": [
      "2025/09/02 17:22:09 WARNING mlflow.models.model: `artifact_path` is deprecated. Please use `name` instead.\n"
     ]
    },
    {
     "name": "stdout",
     "output_type": "stream",
     "text": [
      "\n",
      "=== Random Forest RESULTS ===\n",
      "AUC-ROC: 0.975\n",
      "Average Precision: 0.924\n",
      "              precision    recall  f1-score   support\n",
      "\n",
      "           0       1.00      1.00      1.00      1560\n",
      "           1       1.00      0.72      0.84        25\n",
      "\n",
      "    accuracy                           1.00      1585\n",
      "   macro avg       1.00      0.86      0.92      1585\n",
      "weighted avg       1.00      1.00      1.00      1585\n",
      "\n"
     ]
    }
   ],
   "source": [
    "# Model 2: Random Forest\n",
    "with mlflow.start_run(run_name=\"RandomForest_Anomaly_Detection\"):\n",
    "    rf_model = RandomForestClassifier(\n",
    "        random_state=42,\n",
    "        n_estimators=100,\n",
    "        max_depth=10,\n",
    "        class_weight='balanced'\n",
    "    )\n",
    "    \n",
    "    rf_model.fit(X_train[modeling_features], y_train)\n",
    "    rf_results = evaluate_model(rf_model, X_val[modeling_features], y_val, \"Random Forest\")\n",
    "    \n",
    "    mlflow.log_param(\"model_type\", \"RandomForest\")\n",
    "    mlflow.log_metric(\"auc_roc\", rf_results['auc_roc'])\n",
    "    mlflow.log_metric(\"avg_precision\", rf_results['avg_precision'])\n",
    "    \n",
    "    mlflow.sklearn.log_model(\n",
    "        rf_model,\n",
    "        \"random_forest_anomaly_model\",\n",
    "        input_example=X_train[modeling_features].head(1)\n",
    "    )"
   ]
  },
  {
   "cell_type": "markdown",
   "id": "9de972ee",
   "metadata": {},
   "source": [
    "### 4.3 Logistic Regression"
   ]
  },
  {
   "cell_type": "code",
   "execution_count": 10,
   "id": "train-logistic",
   "metadata": {},
   "outputs": [
    {
     "name": "stderr",
     "output_type": "stream",
     "text": [
      "2025/09/02 17:22:11 WARNING mlflow.models.model: `artifact_path` is deprecated. Please use `name` instead.\n"
     ]
    },
    {
     "name": "stdout",
     "output_type": "stream",
     "text": [
      "\n",
      "=== Logistic Regression RESULTS ===\n",
      "AUC-ROC: 0.953\n",
      "Average Precision: 0.733\n",
      "              precision    recall  f1-score   support\n",
      "\n",
      "           0       1.00      0.96      0.98      1560\n",
      "           1       0.23      0.80      0.36        25\n",
      "\n",
      "    accuracy                           0.96      1585\n",
      "   macro avg       0.61      0.88      0.67      1585\n",
      "weighted avg       0.98      0.96      0.97      1585\n",
      "\n"
     ]
    }
   ],
   "source": [
    "# Model 3: Logistic Regression\n",
    "with mlflow.start_run(run_name=\"LogisticRegression_Anomaly_Detection\"):\n",
    "    scaler_lr = StandardScaler()\n",
    "    lr_model = LogisticRegression(\n",
    "        random_state=42,\n",
    "        class_weight='balanced',\n",
    "        max_iter=1000\n",
    "    )\n",
    "    \n",
    "    lr_pipeline = Pipeline([\n",
    "        ('scaler', scaler_lr),\n",
    "        ('classifier', lr_model)\n",
    "    ])\n",
    "    \n",
    "    lr_pipeline.fit(X_train[modeling_features], y_train)\n",
    "    lr_results = evaluate_model(lr_pipeline, X_val[modeling_features], y_val, \"Logistic Regression\")\n",
    "    \n",
    "    mlflow.log_param(\"model_type\", \"LogisticRegression\")\n",
    "    mlflow.log_metric(\"auc_roc\", lr_results['auc_roc'])\n",
    "    mlflow.log_metric(\"avg_precision\", lr_results['avg_precision'])\n",
    "    \n",
    "    mlflow.sklearn.log_model(\n",
    "        lr_pipeline,\n",
    "        \"logistic_regression_anomaly_model\",\n",
    "        input_example=X_train[modeling_features].head(1)\n",
    "    )"
   ]
  },
  {
   "cell_type": "markdown",
   "id": "model-comparison",
   "metadata": {},
   "source": [
    "## 5. Model Comparison"
   ]
  },
  {
   "cell_type": "code",
   "execution_count": 11,
   "id": "compare-models",
   "metadata": {},
   "outputs": [
    {
     "name": "stdout",
     "output_type": "stream",
     "text": [
      "\n",
      "=== MODEL COMPARISON ===\n",
      "                 Model  AUC-ROC  Avg Precision\n",
      "0             LightGBM    0.996          0.927\n",
      "1        Random Forest    0.975          0.924\n",
      "2  Logistic Regression    0.953          0.733\n",
      "\n",
      "Best model: LightGBM (AUC-ROC: 0.996)\n"
     ]
    }
   ],
   "source": [
    "# Compare models\n",
    "results_comparison = pd.DataFrame({\n",
    "    'Model': ['LightGBM', 'Random Forest', 'Logistic Regression'],\n",
    "    'AUC-ROC': [lgb_results['auc_roc'], rf_results['auc_roc'], lr_results['auc_roc']],\n",
    "    'Avg Precision': [lgb_results['avg_precision'], rf_results['avg_precision'], lr_results['avg_precision']]\n",
    "})\n",
    "\n",
    "print(\"\\n=== MODEL COMPARISON ===\")\n",
    "print(results_comparison.round(3))\n",
    "\n",
    "# Select best model\n",
    "best_idx = results_comparison['AUC-ROC'].idxmax()\n",
    "best_model_name = results_comparison.loc[best_idx, 'Model']\n",
    "best_auc = results_comparison.loc[best_idx, 'AUC-ROC']\n",
    "\n",
    "print(f\"\\nBest model: {best_model_name} (AUC-ROC: {best_auc:.3f})\")\n",
    "\n",
    "if best_model_name == 'LightGBM':\n",
    "    best_model = lgb_model\n",
    "    best_results = lgb_results\n",
    "elif best_model_name == 'Random Forest':\n",
    "    best_model = rf_model\n",
    "    best_results = rf_results\n",
    "else:\n",
    "    best_model = lr_pipeline\n",
    "    best_results = lr_results"
   ]
  },
  {
   "cell_type": "markdown",
   "id": "final-evaluation",
   "metadata": {},
   "source": [
    "## 6. Final Evaluation"
   ]
  },
  {
   "cell_type": "code",
   "execution_count": 12,
   "id": "test-evaluation",
   "metadata": {},
   "outputs": [
    {
     "name": "stdout",
     "output_type": "stream",
     "text": [
      "\n",
      "=== FINAL EVALUATION: LightGBM ===\n",
      "\n",
      "=== LightGBM (Test Set) RESULTS ===\n",
      "AUC-ROC: 0.988\n",
      "Average Precision: 0.873\n",
      "              precision    recall  f1-score   support\n",
      "\n",
      "           0       0.98      0.99      0.99      1499\n",
      "           1       0.82      0.68      0.74        87\n",
      "\n",
      "    accuracy                           0.97      1586\n",
      "   macro avg       0.90      0.83      0.86      1586\n",
      "weighted avg       0.97      0.97      0.97      1586\n",
      "\n",
      "\n",
      "Confusion Matrix:\n",
      "True Negatives: 1,486\n",
      "False Positives: 13\n",
      "False Negatives: 28\n",
      "True Positives: 59\n",
      "\n",
      "Anomaly Detection Performance:\n",
      "Precision: 0.819\n",
      "Recall: 0.678\n",
      "F1-Score: 0.742\n"
     ]
    }
   ],
   "source": [
    "# Final evaluation on test set\n",
    "print(f\"\\n=== FINAL EVALUATION: {best_model_name} ===\")\n",
    "test_results = evaluate_model(best_model, X_test[modeling_features], y_test, f\"{best_model_name} (Test Set)\")\n",
    "\n",
    "# Confusion matrix\n",
    "cm = confusion_matrix(y_test, test_results['predictions'])\n",
    "print(f\"\\nConfusion Matrix:\")\n",
    "print(f\"True Negatives: {cm[0,0]:,}\")\n",
    "print(f\"False Positives: {cm[0,1]:,}\")\n",
    "print(f\"False Negatives: {cm[1,0]:,}\")\n",
    "print(f\"True Positives: {cm[1,1]:,}\")\n",
    "\n",
    "# Calculate metrics\n",
    "precision = cm[1,1] / (cm[1,1] + cm[0,1]) if (cm[1,1] + cm[0,1]) > 0 else 0\n",
    "recall = cm[1,1] / (cm[1,1] + cm[1,0]) if (cm[1,1] + cm[1,0]) > 0 else 0\n",
    "f1 = 2 * (precision * recall) / (precision + recall) if (precision + recall) > 0 else 0\n",
    "\n",
    "print(f\"\\nAnomaly Detection Performance:\")\n",
    "print(f\"Precision: {precision:.3f}\")\n",
    "print(f\"Recall: {recall:.3f}\")\n",
    "print(f\"F1-Score: {f1:.3f}\")"
   ]
  },
  {
   "cell_type": "markdown",
   "id": "feature-importance",
   "metadata": {},
   "source": [
    "## 7. Feature Importance"
   ]
  },
  {
   "cell_type": "code",
   "execution_count": 13,
   "id": "aca268e6",
   "metadata": {},
   "outputs": [
    {
     "name": "stdout",
     "output_type": "stream",
     "text": [
      "\n",
      "=== FEATURE IMPORTANCE (LightGBM) ===\n",
      "         feature  importance\n",
      "0      speed_kmh         765\n",
      "6      longitude         540\n",
      "5       latitude         536\n",
      "4        heading         414\n",
      "1    hour_of_day         291\n",
      "3     is_delayed         144\n",
      "9  route_encoded          39\n",
      "2    day_of_week          23\n",
      "8   is_rush_hour          12\n",
      "7     is_weekend           0\n"
     ]
    },
    {
     "data": {
      "image/png": "[encoded data removed]",
      "text/plain": [
       "<Figure size 1000x600 with 1 Axes>"
      ]
     },
     "metadata": {},
     "output_type": "display_data"
    },
    {
     "name": "stdout",
     "output_type": "stream",
     "text": [
      "\n",
      "Top 3 features: ['speed_kmh', 'longitude', 'latitude']\n"
     ]
    }
   ],
   "source": [
    "# Feature importance analysis\n",
    "if best_model_name in ['LightGBM', 'Random Forest']:\n",
    "    if best_model_name == 'LightGBM':\n",
    "        importances = lgb_model.feature_importances_\n",
    "    else:\n",
    "        importances = rf_model.feature_importances_\n",
    "    \n",
    "    feature_importance = pd.DataFrame({\n",
    "        'feature': modeling_features,\n",
    "        'importance': importances\n",
    "    }).sort_values('importance', ascending=False)\n",
    "    \n",
    "    print(f\"\\n=== FEATURE IMPORTANCE ({best_model_name}) ===\")\n",
    "    print(feature_importance.round(4))\n",
    "    \n",
    "    # Plot feature importance\n",
    "    plt.figure(figsize=(10, 6))\n",
    "    plt.barh(feature_importance['feature'], feature_importance['importance'])\n",
    "    plt.title(f'Feature Importance - {best_model_name}')\n",
    "    plt.xlabel('Importance')\n",
    "    plt.tight_layout()\n",
    "    plt.show()\n",
    "    \n",
    "    top_features = feature_importance.head(3)['feature'].tolist()\n",
    "    print(f\"\\nTop 3 features: {top_features}\")\n",
    "else:\n",
    "    print(f\"Feature importance not available for {best_model_name}\")"
   ]
  },
  {
   "cell_type": "markdown",
   "id": "save-model",
   "metadata": {},
   "source": [
    "## 8. Save Model for Deployment"
   ]
  },
  {
   "cell_type": "code",
   "execution_count": 14,
   "id": "save-model-code",
   "metadata": {},
   "outputs": [
    {
     "name": "stdout",
     "output_type": "stream",
     "text": [
      "\n",
      "Model saved to 'models/best_anomaly_model.pkl'\n",
      "Ready for FastAPI deployment!\n",
      "\n",
      "=== SUMMARY ===\n",
      "Best model: LightGBM\n",
      "Test AUC-ROC: 0.988\n",
      "Test Precision: 0.819\n",
      "Test Recall: 0.678\n"
     ]
    }
   ],
   "source": [
    "# Save the best model\n",
    "import joblib\n",
    "import os\n",
    "\n",
    "os.makedirs('models', exist_ok=True)\n",
    "\n",
    "model_artifacts = {\n",
    "    'model': best_model,\n",
    "    'features': modeling_features,\n",
    "    'label_encoder': le_route,\n",
    "    'performance': {\n",
    "        'auc_roc': test_results['auc_roc'],\n",
    "        'avg_precision': test_results['avg_precision'],\n",
    "        'precision': precision,\n",
    "        'recall': recall,\n",
    "        'f1_score': f1\n",
    "    }\n",
    "}\n",
    "\n",
    "joblib.dump(model_artifacts, 'models/best_anomaly_model.pkl')\n",
    "print(\"\\nModel saved to 'models/best_anomaly_model.pkl'\")\n",
    "print(\"Ready for FastAPI deployment!\")\n",
    "\n",
    "print(f\"\\n=== SUMMARY ===\")\n",
    "print(f\"Best model: {best_model_name}\")\n",
    "print(f\"Test AUC-ROC: {test_results['auc_roc']:.3f}\")\n",
    "print(f\"Test Precision: {precision:.3f}\")\n",
    "print(f\"Test Recall: {recall:.3f}\")"
   ]
  }
 ],
 "metadata": {
  "kernelspec": {
   "display_name": "Python 3 (ipykernel)",
   "language": "python",
   "name": "python3"
  },
  "language_info": {
   "codemirror_mode": {
    "name": "ipython",
    "version": 3
   },
   "file_extension": ".py",
   "mimetype": "text/x-python",
   "name": "python",
   "nbconvert_exporter": "python",
   "pygments_lexer": "ipython3",
   "version": "3.10.18"
  }
 },
 "nbformat": 4,
 "nbformat_minor": 5
}
