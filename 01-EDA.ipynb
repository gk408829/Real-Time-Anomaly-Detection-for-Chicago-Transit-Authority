{
 "cells": [
  {
   "cell_type": "code",
   "execution_count": 1,
   "id": "c099243c-d639-4433-b770-af3bcfccc46d",
   "metadata": {},
   "outputs": [],
   "source": [
    "# Import relevant librarie and packages\n",
    "import numpy as np\n",
    "import pandas as pd\n",
    "import sqlite3\n",
    "import matplotlib.pyplot as plt\n",
    "import seaborn as sns\n",
    "import geopandas as gpd\n",
    "from shapely.geometry import Point"
   ]
  },
  {
   "cell_type": "code",
   "execution_count": 2,
   "id": "2b1abdc4-1d12-443e-857b-dad16374eee0",
   "metadata": {},
   "outputs": [],
   "source": [
    "plt.rcParams.update({\n",
    "    \"pgf.texsystem\": \"pdflatex\",\n",
    "    \"font.family\": \"serif\",\n",
    "    \"text.usetex\": True,\n",
    "    \"pgf.rcfonts\": False,\n",
    "})"
   ]
  },
  {
   "cell_type": "code",
   "execution_count": 3,
   "id": "ae78677b-86ea-4647-b31d-568903aa5b6b",
   "metadata": {},
   "outputs": [],
   "source": [
    "# Set some display options for pandas\n",
    "pd.set_option('display.max_columns', 50)"
   ]
  },
  {
   "cell_type": "code",
   "execution_count": 4,
   "id": "ba710293-c0cc-4262-8855-8e4d43acfe53",
   "metadata": {},
   "outputs": [],
   "source": [
    "# Path to the database\n",
    "DB_PATH = \"data/cta_database.db\""
   ]
  },
  {
   "cell_type": "code",
   "execution_count": 5,
   "id": "567448e0-cb5d-4c5f-89d2-390295e9c712",
   "metadata": {},
   "outputs": [],
   "source": [
    "# Connect to SQLite database\n",
    "conn = sqlite3.connect(DB_PATH)"
   ]
  },
  {
   "cell_type": "code",
   "execution_count": 6,
   "id": "c6cba070-6fd7-48e6-88b6-b52812cae44f",
   "metadata": {},
   "outputs": [],
   "source": [
    "# SQL query to select all data from the table\n",
    "query = \"SELECT * FROM train_positions\""
   ]
  },
  {
   "cell_type": "code",
   "execution_count": 7,
   "id": "0dd1ac97-413e-45ae-b3c0-14fd9853aa28",
   "metadata": {},
   "outputs": [],
   "source": [
    "# Load the data into a Pandas DataFrame\n",
    "df = pd.read_sql_query(query, conn)"
   ]
  },
  {
   "cell_type": "code",
   "execution_count": 8,
   "id": "51b96294-3a35-491e-8f4f-3889501983ea",
   "metadata": {},
   "outputs": [],
   "source": [
    "# Close the connection\n",
    "conn.close()"
   ]
  },
  {
   "cell_type": "code",
   "execution_count": 9,
   "id": "2e23868f-71e8-4c29-afe9-d3be9012001f",
   "metadata": {},
   "outputs": [
    {
     "name": "stdout",
     "output_type": "stream",
     "text": [
      "Shape of the dataset: (38613, 11)\n"
     ]
    }
   ],
   "source": [
    "# --- Initial Inspection ---\n",
    "# Print the shape of the DataFrame\n",
    "print(f\"Shape of the dataset: {df.shape}\")"
   ]
  },
  {
   "cell_type": "code",
   "execution_count": 10,
   "id": "061fa1a2-f86e-46a0-8cc0-31cf8feaf978",
   "metadata": {},
   "outputs": [
    {
     "name": "stdout",
     "output_type": "stream",
     "text": [
      "\n",
      "First 5 rows:\n"
     ]
    },
    {
     "data": {
      "text/html": [
       "<div>\n",
       "<style scoped>\n",
       "    .dataframe tbody tr th:only-of-type {\n",
       "        vertical-align: middle;\n",
       "    }\n",
       "\n",
       "    .dataframe tbody tr th {\n",
       "        vertical-align: top;\n",
       "    }\n",
       "\n",
       "    .dataframe thead th {\n",
       "        text-align: right;\n",
       "    }\n",
       "</style>\n",
       "<table border=\"1\" class=\"dataframe\">\n",
       "  <thead>\n",
       "    <tr style=\"text-align: right;\">\n",
       "      <th></th>\n",
       "      <th>id</th>\n",
       "      <th>fetch_timestamp</th>\n",
       "      <th>run_number</th>\n",
       "      <th>route_name</th>\n",
       "      <th>destination_name</th>\n",
       "      <th>next_station_name</th>\n",
       "      <th>arrival_time</th>\n",
       "      <th>is_delayed</th>\n",
       "      <th>latitude</th>\n",
       "      <th>longitude</th>\n",
       "      <th>heading</th>\n",
       "    </tr>\n",
       "  </thead>\n",
       "  <tbody>\n",
       "    <tr>\n",
       "      <th>0</th>\n",
       "      <td>1</td>\n",
       "      <td>1756299646</td>\n",
       "      <td>801</td>\n",
       "      <td>red</td>\n",
       "      <td>95th/Dan Ryan</td>\n",
       "      <td>Fullerton</td>\n",
       "      <td>1756274472</td>\n",
       "      <td>0</td>\n",
       "      <td>41.93019</td>\n",
       "      <td>-87.65302</td>\n",
       "      <td>177</td>\n",
       "    </tr>\n",
       "    <tr>\n",
       "      <th>1</th>\n",
       "      <td>2</td>\n",
       "      <td>1756299646</td>\n",
       "      <td>802</td>\n",
       "      <td>red</td>\n",
       "      <td>95th/Dan Ryan</td>\n",
       "      <td>Lawrence</td>\n",
       "      <td>1756274496</td>\n",
       "      <td>0</td>\n",
       "      <td>41.97345</td>\n",
       "      <td>-87.65853</td>\n",
       "      <td>178</td>\n",
       "    </tr>\n",
       "    <tr>\n",
       "      <th>2</th>\n",
       "      <td>3</td>\n",
       "      <td>1756299646</td>\n",
       "      <td>805</td>\n",
       "      <td>red</td>\n",
       "      <td>Howard</td>\n",
       "      <td>Thorndale</td>\n",
       "      <td>1756274499</td>\n",
       "      <td>0</td>\n",
       "      <td>41.99026</td>\n",
       "      <td>-87.65908</td>\n",
       "      <td>357</td>\n",
       "    </tr>\n",
       "    <tr>\n",
       "      <th>3</th>\n",
       "      <td>4</td>\n",
       "      <td>1756299646</td>\n",
       "      <td>806</td>\n",
       "      <td>red</td>\n",
       "      <td>Howard</td>\n",
       "      <td>Wilson</td>\n",
       "      <td>1756274607</td>\n",
       "      <td>0</td>\n",
       "      <td>41.95377</td>\n",
       "      <td>-87.65493</td>\n",
       "      <td>271</td>\n",
       "    </tr>\n",
       "    <tr>\n",
       "      <th>4</th>\n",
       "      <td>5</td>\n",
       "      <td>1756299646</td>\n",
       "      <td>807</td>\n",
       "      <td>red</td>\n",
       "      <td>Howard</td>\n",
       "      <td>Fullerton</td>\n",
       "      <td>1756274621</td>\n",
       "      <td>0</td>\n",
       "      <td>41.91065</td>\n",
       "      <td>-87.64918</td>\n",
       "      <td>305</td>\n",
       "    </tr>\n",
       "  </tbody>\n",
       "</table>\n",
       "</div>"
      ],
      "text/plain": [
       "   id  fetch_timestamp run_number route_name destination_name  \\\n",
       "0   1       1756299646        801        red    95th/Dan Ryan   \n",
       "1   2       1756299646        802        red    95th/Dan Ryan   \n",
       "2   3       1756299646        805        red           Howard   \n",
       "3   4       1756299646        806        red           Howard   \n",
       "4   5       1756299646        807        red           Howard   \n",
       "\n",
       "  next_station_name  arrival_time  is_delayed  latitude  longitude  heading  \n",
       "0         Fullerton    1756274472           0  41.93019  -87.65302      177  \n",
       "1          Lawrence    1756274496           0  41.97345  -87.65853      178  \n",
       "2         Thorndale    1756274499           0  41.99026  -87.65908      357  \n",
       "3            Wilson    1756274607           0  41.95377  -87.65493      271  \n",
       "4         Fullerton    1756274621           0  41.91065  -87.64918      305  "
      ]
     },
     "execution_count": 10,
     "metadata": {},
     "output_type": "execute_result"
    }
   ],
   "source": [
    "# Print the first 5 rows to see what the data looks like\n",
    "print(\"\\nFirst 5 rows:\")\n",
    "df.head()"
   ]
  },
  {
   "cell_type": "code",
   "execution_count": 11,
   "id": "704f2bee-e078-4662-bb73-a8a52f9be55c",
   "metadata": {},
   "outputs": [
    {
     "name": "stdout",
     "output_type": "stream",
     "text": [
      "\n",
      "Data Info:\n",
      "<class 'pandas.core.frame.DataFrame'>\n",
      "RangeIndex: 38613 entries, 0 to 38612\n",
      "Data columns (total 11 columns):\n",
      " #   Column             Non-Null Count  Dtype  \n",
      "---  ------             --------------  -----  \n",
      " 0   id                 38613 non-null  int64  \n",
      " 1   fetch_timestamp    38613 non-null  int64  \n",
      " 2   run_number         38613 non-null  object \n",
      " 3   route_name         38613 non-null  object \n",
      " 4   destination_name   38613 non-null  object \n",
      " 5   next_station_name  38613 non-null  object \n",
      " 6   arrival_time       38613 non-null  int64  \n",
      " 7   is_delayed         38613 non-null  int64  \n",
      " 8   latitude           38613 non-null  float64\n",
      " 9   longitude          38613 non-null  float64\n",
      " 10  heading            38613 non-null  int64  \n",
      "dtypes: float64(2), int64(5), object(4)\n",
      "memory usage: 3.2+ MB\n"
     ]
    }
   ],
   "source": [
    "# Print a concise summary of the DataFrame\n",
    "print(\"\\nData Info:\")\n",
    "df.info()"
   ]
  },
  {
   "cell_type": "code",
   "execution_count": 12,
   "id": "1826a36d-d8d7-4932-a82b-37b53a0e13f2",
   "metadata": {},
   "outputs": [],
   "source": [
    "# --- Create the GeoDataFrame from our train data ---\n",
    "# First, drop any rows that might have missing lat/lon data\n",
    "df_geo = df.dropna(subset=['latitude', 'longitude']).copy()"
   ]
  },
  {
   "cell_type": "code",
   "execution_count": 13,
   "id": "c4e4d272-a581-4170-9935-20c8b20bdcca",
   "metadata": {},
   "outputs": [],
   "source": [
    "# Create a 'geometry' column from the latitude and longitude\n",
    "# This is what makes the DataFrame \"map-aware\"\n",
    "geometry = [Point(xy) for xy in zip(df_geo['longitude'], df_geo['latitude'])]\n",
    "gdf_trains = gpd.GeoDataFrame(df_geo, geometry=geometry, crs=\"EPSG:4326\")"
   ]
  },
  {
   "cell_type": "code",
   "execution_count": 14,
   "id": "e5cb962f-1af2-40b6-8968-760762aef833",
   "metadata": {},
   "outputs": [],
   "source": [
    "# --- Load the Chicago map shapefile ---\n",
    "chicago_map = gpd.read_file(\"geo_data/Boundaries_-_City_20250823.geojson\")"
   ]
  },
  {
   "cell_type": "code",
   "execution_count": 15,
   "id": "7980c7e7-ffcf-4de6-8f76-9f10a48d998f",
   "metadata": {},
   "outputs": [
    {
     "data": {
      "image/png": "[encoded data removed]",
      "text/plain": [
       "<Figure size 1200x1200 with 1 Axes>"
      ]
     },
     "metadata": {},
     "output_type": "display_data"
    }
   ],
   "source": [
    "# --- Create the Plot ---\n",
    "fig, ax = plt.subplots(figsize=(12, 12))\n",
    "\n",
    "# Plot the map of Chicago as the base layer\n",
    "chicago_map.plot(ax=ax, color='lightgray', edgecolor='black')\n",
    "\n",
    "# --- FIX: Adjust the sample size dynamically ---\n",
    "# Set the sample size to 1000 or the total number of rows, whichever is smaller\n",
    "sample_size = min(1000, len(gdf_trains))\n",
    "\n",
    "# Plot the train positions on top using the adjusted sample size\n",
    "if sample_size > 0:\n",
    "    gdf_trains.sample(n=sample_size, random_state=42).plot(\n",
    "        ax=ax, marker='o', color='red', markersize=5, alpha=0.5, label='Train Positions'\n",
    "    )\n",
    "\n",
    "# Customize the plot\n",
    "ax.set_title('CTA Red Line Train Positions in Chicago')\n",
    "ax.set_xlabel('Longitude')\n",
    "ax.set_ylabel('Latitude')\n",
    "ax.legend()\n",
    "plt.show()"
   ]
  },
  {
   "cell_type": "code",
   "execution_count": 16,
   "id": "603d37b0-b80f-440c-860e-61a073fe6816",
   "metadata": {},
   "outputs": [],
   "source": [
    "# Convert Unix timestamps to datetime objects\n",
    "df['fetch_datetime'] = pd.to_datetime(df['fetch_timestamp'], unit='s')\n",
    "df['arrival_datetime'] = pd.to_datetime(df['arrival_time'], unit='s')"
   ]
  },
  {
   "cell_type": "code",
   "execution_count": 17,
   "id": "6b904bbb-7b9d-453e-ae1e-ecff70e8b18f",
   "metadata": {},
   "outputs": [],
   "source": [
    "# Extract useful time features like hour of the day and day of the week\n",
    "df['hour_of_day'] = df['fetch_datetime'].dt.hour\n",
    "df['day_of_week'] = df['fetch_datetime'].dt.day_name()"
   ]
  },
  {
   "cell_type": "code",
   "execution_count": 18,
   "id": "b69d6efb-367f-4c2d-a87d-f0213d58924a",
   "metadata": {},
   "outputs": [
    {
     "data": {
      "text/html": [
       "<div>\n",
       "<style scoped>\n",
       "    .dataframe tbody tr th:only-of-type {\n",
       "        vertical-align: middle;\n",
       "    }\n",
       "\n",
       "    .dataframe tbody tr th {\n",
       "        vertical-align: top;\n",
       "    }\n",
       "\n",
       "    .dataframe thead th {\n",
       "        text-align: right;\n",
       "    }\n",
       "</style>\n",
       "<table border=\"1\" class=\"dataframe\">\n",
       "  <thead>\n",
       "    <tr style=\"text-align: right;\">\n",
       "      <th></th>\n",
       "      <th>fetch_datetime</th>\n",
       "      <th>arrival_datetime</th>\n",
       "      <th>hour_of_day</th>\n",
       "      <th>day_of_week</th>\n",
       "    </tr>\n",
       "  </thead>\n",
       "  <tbody>\n",
       "    <tr>\n",
       "      <th>0</th>\n",
       "      <td>2025-08-27 13:00:46</td>\n",
       "      <td>2025-08-27 06:01:12</td>\n",
       "      <td>13</td>\n",
       "      <td>Wednesday</td>\n",
       "    </tr>\n",
       "    <tr>\n",
       "      <th>1</th>\n",
       "      <td>2025-08-27 13:00:46</td>\n",
       "      <td>2025-08-27 06:01:36</td>\n",
       "      <td>13</td>\n",
       "      <td>Wednesday</td>\n",
       "    </tr>\n",
       "    <tr>\n",
       "      <th>2</th>\n",
       "      <td>2025-08-27 13:00:46</td>\n",
       "      <td>2025-08-27 06:01:39</td>\n",
       "      <td>13</td>\n",
       "      <td>Wednesday</td>\n",
       "    </tr>\n",
       "    <tr>\n",
       "      <th>3</th>\n",
       "      <td>2025-08-27 13:00:46</td>\n",
       "      <td>2025-08-27 06:03:27</td>\n",
       "      <td>13</td>\n",
       "      <td>Wednesday</td>\n",
       "    </tr>\n",
       "    <tr>\n",
       "      <th>4</th>\n",
       "      <td>2025-08-27 13:00:46</td>\n",
       "      <td>2025-08-27 06:03:41</td>\n",
       "      <td>13</td>\n",
       "      <td>Wednesday</td>\n",
       "    </tr>\n",
       "  </tbody>\n",
       "</table>\n",
       "</div>"
      ],
      "text/plain": [
       "       fetch_datetime    arrival_datetime  hour_of_day day_of_week\n",
       "0 2025-08-27 13:00:46 2025-08-27 06:01:12           13   Wednesday\n",
       "1 2025-08-27 13:00:46 2025-08-27 06:01:36           13   Wednesday\n",
       "2 2025-08-27 13:00:46 2025-08-27 06:01:39           13   Wednesday\n",
       "3 2025-08-27 13:00:46 2025-08-27 06:03:27           13   Wednesday\n",
       "4 2025-08-27 13:00:46 2025-08-27 06:03:41           13   Wednesday"
      ]
     },
     "metadata": {},
     "output_type": "display_data"
    }
   ],
   "source": [
    "# Display the new columns\n",
    "display(df[['fetch_datetime', 'arrival_datetime', 'hour_of_day', 'day_of_week']].head())"
   ]
  },
  {
   "cell_type": "code",
   "execution_count": 19,
   "id": "36b5cd8f-de10-4b69-9584-aaedf61ec7c9",
   "metadata": {},
   "outputs": [
    {
     "name": "stderr",
     "output_type": "stream",
     "text": [
      "/var/folders/71/0hnjxlbj1k93ry1fd_9c57200000gn/T/ipykernel_58262/2533354923.py:3: FutureWarning: \n",
      "\n",
      "Passing `palette` without assigning `hue` is deprecated and will be removed in v0.14.0. Assign the `x` variable to `hue` and set `legend=False` for the same effect.\n",
      "\n",
      "  sns.countplot(data=df, x='hour_of_day', palette='viridis')\n"
     ]
    },
    {
     "data": {
      "image/png": "[encoded data removed]",
      "text/plain": [
       "<Figure size 1200x600 with 1 Axes>"
      ]
     },
     "metadata": {},
     "output_type": "display_data"
    }
   ],
   "source": [
    "# Plot the number of active trains per hour\n",
    "plt.figure(figsize=(12, 6))\n",
    "sns.countplot(data=df, x='hour_of_day', palette='viridis')\n",
    "plt.title('Number of Active Trains by Hour of Day')\n",
    "plt.xlabel('Hour of Day (24-hour format)')\n",
    "plt.ylabel('Number of Data Points (Count of Active Trains)')\n",
    "plt.grid(axis='y', linestyle='--', alpha=0.7)\n",
    "plt.show()"
   ]
  },
  {
   "cell_type": "code",
   "execution_count": 20,
   "id": "ed5cd44f-d2f7-48e6-bf0a-e6cefb6a9655",
   "metadata": {},
   "outputs": [],
   "source": [
    "def haversine_distance(lat1, lon1, lat2, lon2):\n",
    "    \"\"\"Calculates the distance between two points on Earth in meters.\"\"\"\n",
    "    R = 6371000  # Radius of Earth in meters\n",
    "    phi1 = np.radians(lat1)\n",
    "    phi2 = np.radians(lat2)\n",
    "    delta_phi = np.radians(lat2 - lat1)\n",
    "    delta_lambda = np.radians(lon2 - lon1)\n",
    "    \n",
    "    a = np.sin(delta_phi / 2.0)**2 + np.cos(phi1) * np.cos(phi2) * np.sin(delta_lambda / 2.0)**2\n",
    "    c = 2 * np.arctan2(np.sqrt(a), np.sqrt(1 - a))\n",
    "    \n",
    "    return R * c"
   ]
  },
  {
   "cell_type": "code",
   "execution_count": 21,
   "id": "5e294e20-f3e8-44b7-87cd-6876b4fb53cf",
   "metadata": {},
   "outputs": [],
   "source": [
    "# Sort the data so consecutive readings for each train are next to each other\n",
    "df_sorted = df.sort_values(by=['run_number', 'fetch_timestamp']).copy()"
   ]
  },
  {
   "cell_type": "code",
   "execution_count": 22,
   "id": "8be7dbb5-35a0-4b83-a6da-b29238bdaac7",
   "metadata": {},
   "outputs": [],
   "source": [
    "# Group by train and calculate the change in time and position\n",
    "df_sorted['time_diff_s'] = df_sorted.groupby('run_number')['fetch_timestamp'].diff()\n",
    "df_sorted['lat_prev'] = df_sorted.groupby('run_number')['latitude'].shift(1)\n",
    "df_sorted['lon_prev'] = df_sorted.groupby('run_number')['longitude'].shift(1)"
   ]
  },
  {
   "cell_type": "code",
   "execution_count": 23,
   "id": "ec8504e5-ad1a-4918-a664-b8f609da60a9",
   "metadata": {},
   "outputs": [],
   "source": [
    "# Calculate the distance traveled between readings\n",
    "df_sorted['distance_m'] = haversine_distance(\n",
    "    df_sorted['lat_prev'], df_sorted['lon_prev'],\n",
    "    df_sorted['latitude'], df_sorted['longitude']\n",
    ")"
   ]
  },
  {
   "cell_type": "code",
   "execution_count": 24,
   "id": "2d56eb9e-16a4-45f2-9ffd-d52835f99d71",
   "metadata": {},
   "outputs": [],
   "source": [
    "# Calculate speed in meters per second (and handle cases where time_diff is zero)\n",
    "df_sorted['speed_mps'] = (df_sorted['distance_m'] / df_sorted['time_diff_s']).fillna(0)"
   ]
  },
  {
   "cell_type": "code",
   "execution_count": 25,
   "id": "7e22c060-8789-4856-bd53-f45c7fe66732",
   "metadata": {},
   "outputs": [],
   "source": [
    "# Convert to a more intuitive unit like kilometers per hour\n",
    "df_sorted['speed_kmh'] = df_sorted['speed_mps'] * 3.6"
   ]
  },
  {
   "cell_type": "code",
   "execution_count": 26,
   "id": "d1d92e44-cbd2-403e-b6af-cfcf6a8b66de",
   "metadata": {},
   "outputs": [
    {
     "data": {
      "image/png": "[encoded data removed]",
      "text/plain": [
       "<Figure size 1200x600 with 1 Axes>"
      ]
     },
     "metadata": {},
     "output_type": "display_data"
    }
   ],
   "source": [
    "# --- Visualize Speed Distribution ---\n",
    "plt.figure(figsize=(12, 6))\n",
    "# We'll filter out speeds over 100 km/h as they are likely errors from GPS jumps\n",
    "sns.histplot(df_sorted[df_sorted['speed_kmh'] < 100]['speed_kmh'], bins=50, kde=True)\n",
    "plt.title('Distribution of Calculated Train Speeds')\n",
    "plt.xlabel('Speed (km/h)')\n",
    "plt.ylabel('Frequency')\n",
    "plt.show()"
   ]
  },
  {
   "cell_type": "code",
   "execution_count": 27,
   "id": "2cf4b8ea-4083-47ce-b641-99ba10d5fa4d",
   "metadata": {},
   "outputs": [
    {
     "name": "stdout",
     "output_type": "stream",
     "text": [
      "Percentage of delayed readings:\n",
      "is_delayed\n",
      "0    98.43835\n",
      "1     1.56165\n",
      "Name: proportion, dtype: float64\n",
      "\n"
     ]
    }
   ],
   "source": [
    "# Calculate the percentage of readings that are flagged as delayed\n",
    "delay_percentage = df['is_delayed'].value_counts(normalize=True) * 100\n",
    "print(f\"Percentage of delayed readings:\\n{delay_percentage}\\n\")"
   ]
  },
  {
   "cell_type": "code",
   "execution_count": 28,
   "id": "930599fb-22c9-4ec6-a266-31a2eca73798",
   "metadata": {},
   "outputs": [
    {
     "data": {
      "image/png": "[encoded data removed]",
      "text/plain": [
       "<Figure size 1200x1000 with 1 Axes>"
      ]
     },
     "metadata": {},
     "output_type": "display_data"
    }
   ],
   "source": [
    "# Visualize delays by hour of the day (updated code)\n",
    "plt.figure(figsize=(12, 10))\n",
    "\n",
    "# Use errorbar=None instead of ci=None\n",
    "# Assign 'hour_of_day' to hue to maintain the color palette\n",
    "sns.barplot(\n",
    "    data=df, \n",
    "    x='hour_of_day', \n",
    "    y='is_delayed', \n",
    "    errorbar=None,  # Updated parameter\n",
    "    palette='coolwarm',\n",
    "    hue='hour_of_day', # Added to maintain color mapping\n",
    "    legend=False     # Added to hide the unnecessary legend\n",
    ")\n",
    "\n",
    "plt.title('Proportion of Delayed Trains by Hour of Day')\n",
    "plt.xlabel('Hour of Day')\n",
    "plt.ylabel('Proportion of Readings Flagged as \"Delayed\"')\n",
    "plt.show()"
   ]
  },
  {
   "cell_type": "code",
   "execution_count": 29,
   "id": "dda7bc1a-75f8-42dc-94ae-ddb7cf6699c0",
   "metadata": {},
   "outputs": [],
   "source": [
    "# Assign the feature-engineered dataframe back to your main df\n",
    "df = df_sorted"
   ]
  },
  {
   "cell_type": "code",
   "execution_count": 30,
   "id": "7f7edbde-d9b8-4a80-827e-92af8f273e3f",
   "metadata": {},
   "outputs": [],
   "source": [
    "# Filter out speeds that are likely errors or when the train is stopped\n",
    "df_speed = df[(df['speed_kmh'] > 1) & (df['speed_kmh'] < 100)].copy()"
   ]
  },
  {
   "cell_type": "code",
   "execution_count": 31,
   "id": "208f7ed4-11dd-4634-910c-80beda622926",
   "metadata": {},
   "outputs": [],
   "source": [
    "# Calculate the mean and standard deviation of speed for each hour of the day\n",
    "hourly_stats = df_speed.groupby('hour_of_day')['speed_kmh'].agg(['mean', 'std']).reset_index()\n",
    "hourly_stats.rename(columns={'mean': 'hourly_mean_speed', 'std': 'hourly_std_speed'}, inplace=True)"
   ]
  },
  {
   "cell_type": "code",
   "execution_count": 32,
   "id": "6dee3479-a243-4f6e-8f5a-be00ab282d86",
   "metadata": {},
   "outputs": [],
   "source": [
    "# Merge these hourly stats back into our main dataframe\n",
    "df_speed = pd.merge(df_speed, hourly_stats, on='hour_of_day', how='left')"
   ]
  },
  {
   "cell_type": "code",
   "execution_count": 33,
   "id": "bd256598-003d-4a31-b03d-b72e6d1ad84d",
   "metadata": {},
   "outputs": [],
   "source": [
    "# Calculate the Z-score for each data point\n",
    "df_speed['speed_zscore'] = (df_speed['speed_kmh'] - df_speed['hourly_mean_speed']) / df_speed['hourly_std_speed']"
   ]
  },
  {
   "cell_type": "code",
   "execution_count": 34,
   "id": "1d5c795f-9b56-4c96-bbdd-421f58e0809c",
   "metadata": {},
   "outputs": [
    {
     "name": "stdout",
     "output_type": "stream",
     "text": [
      "\n",
      "Found 126 potential point anomalies (Z-score > 3).\n"
     ]
    }
   ],
   "source": [
    "# --- Identify and Display Anomalies ---\n",
    "z_score_threshold = 3\n",
    "df_speed['is_anomaly'] = df_speed['speed_zscore'].abs() > z_score_threshold\n",
    "\n",
    "anomalies = df_speed[df_speed['is_anomaly']]\n",
    "\n",
    "print(f\"\\nFound {len(anomalies)} potential point anomalies (Z-score > {z_score_threshold}).\")"
   ]
  },
  {
   "cell_type": "code",
   "execution_count": 35,
   "id": "8408ec87-9905-43a3-bb52-bcbd2b70aac1",
   "metadata": {},
   "outputs": [
    {
     "name": "stdout",
     "output_type": "stream",
     "text": [
      "\n",
      "Top 10 Anomalous Readings:\n"
     ]
    },
    {
     "data": {
      "text/html": [
       "<div>\n",
       "<style scoped>\n",
       "    .dataframe tbody tr th:only-of-type {\n",
       "        vertical-align: middle;\n",
       "    }\n",
       "\n",
       "    .dataframe tbody tr th {\n",
       "        vertical-align: top;\n",
       "    }\n",
       "\n",
       "    .dataframe thead th {\n",
       "        text-align: right;\n",
       "    }\n",
       "</style>\n",
       "<table border=\"1\" class=\"dataframe\">\n",
       "  <thead>\n",
       "    <tr style=\"text-align: right;\">\n",
       "      <th></th>\n",
       "      <th>id</th>\n",
       "      <th>fetch_timestamp</th>\n",
       "      <th>run_number</th>\n",
       "      <th>route_name</th>\n",
       "      <th>destination_name</th>\n",
       "      <th>next_station_name</th>\n",
       "      <th>arrival_time</th>\n",
       "      <th>is_delayed</th>\n",
       "      <th>latitude</th>\n",
       "      <th>longitude</th>\n",
       "      <th>heading</th>\n",
       "      <th>fetch_datetime</th>\n",
       "      <th>arrival_datetime</th>\n",
       "      <th>hour_of_day</th>\n",
       "      <th>day_of_week</th>\n",
       "      <th>time_diff_s</th>\n",
       "      <th>lat_prev</th>\n",
       "      <th>lon_prev</th>\n",
       "      <th>distance_m</th>\n",
       "      <th>speed_mps</th>\n",
       "      <th>speed_kmh</th>\n",
       "      <th>hourly_mean_speed</th>\n",
       "      <th>hourly_std_speed</th>\n",
       "      <th>speed_zscore</th>\n",
       "      <th>is_anomaly</th>\n",
       "    </tr>\n",
       "  </thead>\n",
       "  <tbody>\n",
       "    <tr>\n",
       "      <th>17833</th>\n",
       "      <td>20368</td>\n",
       "      <td>1756480709</td>\n",
       "      <td>908</td>\n",
       "      <td>red</td>\n",
       "      <td>Howard</td>\n",
       "      <td>Jackson</td>\n",
       "      <td>1756455534</td>\n",
       "      <td>0</td>\n",
       "      <td>41.87404</td>\n",
       "      <td>-87.62748</td>\n",
       "      <td>0</td>\n",
       "      <td>2025-08-29 15:18:29</td>\n",
       "      <td>2025-08-29 08:18:54</td>\n",
       "      <td>15</td>\n",
       "      <td>Friday</td>\n",
       "      <td>60.0</td>\n",
       "      <td>41.85943</td>\n",
       "      <td>-87.63138</td>\n",
       "      <td>1656.346181</td>\n",
       "      <td>27.605770</td>\n",
       "      <td>99.380771</td>\n",
       "      <td>33.772656</td>\n",
       "      <td>18.899883</td>\n",
       "      <td>3.471350</td>\n",
       "      <td>True</td>\n",
       "    </tr>\n",
       "    <tr>\n",
       "      <th>176</th>\n",
       "      <td>3556</td>\n",
       "      <td>1756309650</td>\n",
       "      <td>801</td>\n",
       "      <td>red</td>\n",
       "      <td>95th/Dan Ryan</td>\n",
       "      <td>North/Clybourn</td>\n",
       "      <td>1756284556</td>\n",
       "      <td>0</td>\n",
       "      <td>41.91065</td>\n",
       "      <td>-87.64918</td>\n",
       "      <td>125</td>\n",
       "      <td>2025-08-27 15:47:30</td>\n",
       "      <td>2025-08-27 08:49:16</td>\n",
       "      <td>15</td>\n",
       "      <td>Wednesday</td>\n",
       "      <td>60.0</td>\n",
       "      <td>41.92505</td>\n",
       "      <td>-87.65287</td>\n",
       "      <td>1630.055039</td>\n",
       "      <td>27.167584</td>\n",
       "      <td>97.803302</td>\n",
       "      <td>33.772656</td>\n",
       "      <td>18.899883</td>\n",
       "      <td>3.387886</td>\n",
       "      <td>True</td>\n",
       "    </tr>\n",
       "    <tr>\n",
       "      <th>3858</th>\n",
       "      <td>18695</td>\n",
       "      <td>1756394045</td>\n",
       "      <td>811</td>\n",
       "      <td>red</td>\n",
       "      <td>95th/Dan Ryan</td>\n",
       "      <td>69th</td>\n",
       "      <td>1756368960</td>\n",
       "      <td>0</td>\n",
       "      <td>41.78054</td>\n",
       "      <td>-87.63100</td>\n",
       "      <td>178</td>\n",
       "      <td>2025-08-28 15:14:05</td>\n",
       "      <td>2025-08-28 08:16:00</td>\n",
       "      <td>15</td>\n",
       "      <td>Thursday</td>\n",
       "      <td>61.0</td>\n",
       "      <td>41.79542</td>\n",
       "      <td>-87.63117</td>\n",
       "      <td>1654.640539</td>\n",
       "      <td>27.125255</td>\n",
       "      <td>97.650917</td>\n",
       "      <td>33.772656</td>\n",
       "      <td>18.899883</td>\n",
       "      <td>3.379823</td>\n",
       "      <td>True</td>\n",
       "    </tr>\n",
       "    <tr>\n",
       "      <th>4775</th>\n",
       "      <td>21142</td>\n",
       "      <td>1756483148</td>\n",
       "      <td>815</td>\n",
       "      <td>red</td>\n",
       "      <td>95th/Dan Ryan</td>\n",
       "      <td>Cermak-Chinatown</td>\n",
       "      <td>1756458038</td>\n",
       "      <td>0</td>\n",
       "      <td>41.85323</td>\n",
       "      <td>-87.63098</td>\n",
       "      <td>191</td>\n",
       "      <td>2025-08-29 15:59:08</td>\n",
       "      <td>2025-08-29 09:00:38</td>\n",
       "      <td>15</td>\n",
       "      <td>Friday</td>\n",
       "      <td>60.0</td>\n",
       "      <td>41.86740</td>\n",
       "      <td>-87.62740</td>\n",
       "      <td>1603.282804</td>\n",
       "      <td>26.721380</td>\n",
       "      <td>96.196968</td>\n",
       "      <td>33.772656</td>\n",
       "      <td>18.899883</td>\n",
       "      <td>3.302894</td>\n",
       "      <td>True</td>\n",
       "    </tr>\n",
       "    <tr>\n",
       "      <th>20085</th>\n",
       "      <td>2090</td>\n",
       "      <td>1756305165</td>\n",
       "      <td>914</td>\n",
       "      <td>red</td>\n",
       "      <td>95th/Dan Ryan</td>\n",
       "      <td>Fullerton</td>\n",
       "      <td>1756280070</td>\n",
       "      <td>0</td>\n",
       "      <td>41.93225</td>\n",
       "      <td>-87.65310</td>\n",
       "      <td>176</td>\n",
       "      <td>2025-08-27 14:32:45</td>\n",
       "      <td>2025-08-27 07:34:30</td>\n",
       "      <td>14</td>\n",
       "      <td>Wednesday</td>\n",
       "      <td>61.0</td>\n",
       "      <td>41.94743</td>\n",
       "      <td>-87.65363</td>\n",
       "      <td>1688.508139</td>\n",
       "      <td>27.680461</td>\n",
       "      <td>99.649661</td>\n",
       "      <td>36.337775</td>\n",
       "      <td>19.636043</td>\n",
       "      <td>3.224269</td>\n",
       "      <td>True</td>\n",
       "    </tr>\n",
       "    <tr>\n",
       "      <th>3406</th>\n",
       "      <td>2800</td>\n",
       "      <td>1756307348</td>\n",
       "      <td>810</td>\n",
       "      <td>red</td>\n",
       "      <td>95th/Dan Ryan</td>\n",
       "      <td>Cermak-Chinatown</td>\n",
       "      <td>1756282258</td>\n",
       "      <td>0</td>\n",
       "      <td>41.85323</td>\n",
       "      <td>-87.63098</td>\n",
       "      <td>191</td>\n",
       "      <td>2025-08-27 15:09:08</td>\n",
       "      <td>2025-08-27 08:10:58</td>\n",
       "      <td>15</td>\n",
       "      <td>Wednesday</td>\n",
       "      <td>61.0</td>\n",
       "      <td>41.86740</td>\n",
       "      <td>-87.62740</td>\n",
       "      <td>1603.282804</td>\n",
       "      <td>26.283325</td>\n",
       "      <td>94.619969</td>\n",
       "      <td>33.772656</td>\n",
       "      <td>18.899883</td>\n",
       "      <td>3.219454</td>\n",
       "      <td>True</td>\n",
       "    </tr>\n",
       "    <tr>\n",
       "      <th>20747</th>\n",
       "      <td>20457</td>\n",
       "      <td>1756480952</td>\n",
       "      <td>915</td>\n",
       "      <td>red</td>\n",
       "      <td>95th/Dan Ryan</td>\n",
       "      <td>Cermak-Chinatown</td>\n",
       "      <td>1756455852</td>\n",
       "      <td>0</td>\n",
       "      <td>41.85323</td>\n",
       "      <td>-87.63098</td>\n",
       "      <td>163</td>\n",
       "      <td>2025-08-29 15:22:32</td>\n",
       "      <td>2025-08-29 08:24:12</td>\n",
       "      <td>15</td>\n",
       "      <td>Friday</td>\n",
       "      <td>61.0</td>\n",
       "      <td>41.86740</td>\n",
       "      <td>-87.62740</td>\n",
       "      <td>1603.282804</td>\n",
       "      <td>26.283325</td>\n",
       "      <td>94.619969</td>\n",
       "      <td>33.772656</td>\n",
       "      <td>18.899883</td>\n",
       "      <td>3.219454</td>\n",
       "      <td>True</td>\n",
       "    </tr>\n",
       "    <tr>\n",
       "      <th>20494</th>\n",
       "      <td>3202</td>\n",
       "      <td>1756308560</td>\n",
       "      <td>915</td>\n",
       "      <td>red</td>\n",
       "      <td>95th/Dan Ryan</td>\n",
       "      <td>Cermak-Chinatown</td>\n",
       "      <td>1756283452</td>\n",
       "      <td>0</td>\n",
       "      <td>41.85323</td>\n",
       "      <td>-87.63098</td>\n",
       "      <td>191</td>\n",
       "      <td>2025-08-27 15:29:20</td>\n",
       "      <td>2025-08-27 08:30:52</td>\n",
       "      <td>15</td>\n",
       "      <td>Wednesday</td>\n",
       "      <td>61.0</td>\n",
       "      <td>41.86740</td>\n",
       "      <td>-87.62740</td>\n",
       "      <td>1603.282804</td>\n",
       "      <td>26.283325</td>\n",
       "      <td>94.619969</td>\n",
       "      <td>33.772656</td>\n",
       "      <td>18.899883</td>\n",
       "      <td>3.219454</td>\n",
       "      <td>True</td>\n",
       "    </tr>\n",
       "    <tr>\n",
       "      <th>4241</th>\n",
       "      <td>3761</td>\n",
       "      <td>1756310197</td>\n",
       "      <td>814</td>\n",
       "      <td>red</td>\n",
       "      <td>95th/Dan Ryan</td>\n",
       "      <td>Cermak-Chinatown</td>\n",
       "      <td>1756285091</td>\n",
       "      <td>0</td>\n",
       "      <td>41.85323</td>\n",
       "      <td>-87.63098</td>\n",
       "      <td>163</td>\n",
       "      <td>2025-08-27 15:56:37</td>\n",
       "      <td>2025-08-27 08:58:11</td>\n",
       "      <td>15</td>\n",
       "      <td>Wednesday</td>\n",
       "      <td>61.0</td>\n",
       "      <td>41.86740</td>\n",
       "      <td>-87.62740</td>\n",
       "      <td>1603.282804</td>\n",
       "      <td>26.283325</td>\n",
       "      <td>94.619969</td>\n",
       "      <td>33.772656</td>\n",
       "      <td>18.899883</td>\n",
       "      <td>3.219454</td>\n",
       "      <td>True</td>\n",
       "    </tr>\n",
       "    <tr>\n",
       "      <th>3659</th>\n",
       "      <td>2881</td>\n",
       "      <td>1756307590</td>\n",
       "      <td>811</td>\n",
       "      <td>red</td>\n",
       "      <td>95th/Dan Ryan</td>\n",
       "      <td>Cermak-Chinatown</td>\n",
       "      <td>1756282497</td>\n",
       "      <td>0</td>\n",
       "      <td>41.85323</td>\n",
       "      <td>-87.63098</td>\n",
       "      <td>163</td>\n",
       "      <td>2025-08-27 15:13:10</td>\n",
       "      <td>2025-08-27 08:14:57</td>\n",
       "      <td>15</td>\n",
       "      <td>Wednesday</td>\n",
       "      <td>61.0</td>\n",
       "      <td>41.86740</td>\n",
       "      <td>-87.62740</td>\n",
       "      <td>1603.282804</td>\n",
       "      <td>26.283325</td>\n",
       "      <td>94.619969</td>\n",
       "      <td>33.772656</td>\n",
       "      <td>18.899883</td>\n",
       "      <td>3.219454</td>\n",
       "      <td>True</td>\n",
       "    </tr>\n",
       "  </tbody>\n",
       "</table>\n",
       "</div>"
      ],
      "text/plain": [
       "          id  fetch_timestamp run_number route_name destination_name  \\\n",
       "17833  20368       1756480709        908        red           Howard   \n",
       "176     3556       1756309650        801        red    95th/Dan Ryan   \n",
       "3858   18695       1756394045        811        red    95th/Dan Ryan   \n",
       "4775   21142       1756483148        815        red    95th/Dan Ryan   \n",
       "20085   2090       1756305165        914        red    95th/Dan Ryan   \n",
       "3406    2800       1756307348        810        red    95th/Dan Ryan   \n",
       "20747  20457       1756480952        915        red    95th/Dan Ryan   \n",
       "20494   3202       1756308560        915        red    95th/Dan Ryan   \n",
       "4241    3761       1756310197        814        red    95th/Dan Ryan   \n",
       "3659    2881       1756307590        811        red    95th/Dan Ryan   \n",
       "\n",
       "      next_station_name  arrival_time  is_delayed  latitude  longitude  \\\n",
       "17833           Jackson    1756455534           0  41.87404  -87.62748   \n",
       "176      North/Clybourn    1756284556           0  41.91065  -87.64918   \n",
       "3858               69th    1756368960           0  41.78054  -87.63100   \n",
       "4775   Cermak-Chinatown    1756458038           0  41.85323  -87.63098   \n",
       "20085         Fullerton    1756280070           0  41.93225  -87.65310   \n",
       "3406   Cermak-Chinatown    1756282258           0  41.85323  -87.63098   \n",
       "20747  Cermak-Chinatown    1756455852           0  41.85323  -87.63098   \n",
       "20494  Cermak-Chinatown    1756283452           0  41.85323  -87.63098   \n",
       "4241   Cermak-Chinatown    1756285091           0  41.85323  -87.63098   \n",
       "3659   Cermak-Chinatown    1756282497           0  41.85323  -87.63098   \n",
       "\n",
       "       heading      fetch_datetime    arrival_datetime  hour_of_day  \\\n",
       "17833        0 2025-08-29 15:18:29 2025-08-29 08:18:54           15   \n",
       "176        125 2025-08-27 15:47:30 2025-08-27 08:49:16           15   \n",
       "3858       178 2025-08-28 15:14:05 2025-08-28 08:16:00           15   \n",
       "4775       191 2025-08-29 15:59:08 2025-08-29 09:00:38           15   \n",
       "20085      176 2025-08-27 14:32:45 2025-08-27 07:34:30           14   \n",
       "3406       191 2025-08-27 15:09:08 2025-08-27 08:10:58           15   \n",
       "20747      163 2025-08-29 15:22:32 2025-08-29 08:24:12           15   \n",
       "20494      191 2025-08-27 15:29:20 2025-08-27 08:30:52           15   \n",
       "4241       163 2025-08-27 15:56:37 2025-08-27 08:58:11           15   \n",
       "3659       163 2025-08-27 15:13:10 2025-08-27 08:14:57           15   \n",
       "\n",
       "      day_of_week  time_diff_s  lat_prev  lon_prev   distance_m  speed_mps  \\\n",
       "17833      Friday         60.0  41.85943 -87.63138  1656.346181  27.605770   \n",
       "176     Wednesday         60.0  41.92505 -87.65287  1630.055039  27.167584   \n",
       "3858     Thursday         61.0  41.79542 -87.63117  1654.640539  27.125255   \n",
       "4775       Friday         60.0  41.86740 -87.62740  1603.282804  26.721380   \n",
       "20085   Wednesday         61.0  41.94743 -87.65363  1688.508139  27.680461   \n",
       "3406    Wednesday         61.0  41.86740 -87.62740  1603.282804  26.283325   \n",
       "20747      Friday         61.0  41.86740 -87.62740  1603.282804  26.283325   \n",
       "20494   Wednesday         61.0  41.86740 -87.62740  1603.282804  26.283325   \n",
       "4241    Wednesday         61.0  41.86740 -87.62740  1603.282804  26.283325   \n",
       "3659    Wednesday         61.0  41.86740 -87.62740  1603.282804  26.283325   \n",
       "\n",
       "       speed_kmh  hourly_mean_speed  hourly_std_speed  speed_zscore  \\\n",
       "17833  99.380771          33.772656         18.899883      3.471350   \n",
       "176    97.803302          33.772656         18.899883      3.387886   \n",
       "3858   97.650917          33.772656         18.899883      3.379823   \n",
       "4775   96.196968          33.772656         18.899883      3.302894   \n",
       "20085  99.649661          36.337775         19.636043      3.224269   \n",
       "3406   94.619969          33.772656         18.899883      3.219454   \n",
       "20747  94.619969          33.772656         18.899883      3.219454   \n",
       "20494  94.619969          33.772656         18.899883      3.219454   \n",
       "4241   94.619969          33.772656         18.899883      3.219454   \n",
       "3659   94.619969          33.772656         18.899883      3.219454   \n",
       "\n",
       "       is_anomaly  \n",
       "17833        True  \n",
       "176          True  \n",
       "3858         True  \n",
       "4775         True  \n",
       "20085        True  \n",
       "3406         True  \n",
       "20747        True  \n",
       "20494        True  \n",
       "4241         True  \n",
       "3659         True  "
      ]
     },
     "metadata": {},
     "output_type": "display_data"
    }
   ],
   "source": [
    "# Display the top 10 most anomalous readings\n",
    "print(\"\\nTop 10 Anomalous Readings:\")\n",
    "display(anomalies.sort_values(by='speed_zscore', ascending=False).head(10))"
   ]
  },
  {
   "cell_type": "code",
   "execution_count": null,
   "id": "67a75b43-db05-48f2-a43f-68f95fda77b1",
   "metadata": {},
   "outputs": [],
   "source": []
  }
 ],
 "metadata": {
  "kernelspec": {
   "display_name": "Python (transit_anomaly)",
   "language": "python",
   "name": "transit_anomaly"
  },
  "language_info": {
   "codemirror_mode": {
    "name": "ipython",
    "version": 3
   },
   "file_extension": ".py",
   "mimetype": "text/x-python",
   "name": "python",
   "nbconvert_exporter": "python",
   "pygments_lexer": "ipython3",
   "version": "3.10.18"
  }
 },
 "nbformat": 4,
 "nbformat_minor": 5
}
